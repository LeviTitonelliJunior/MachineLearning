{
 "cells": [
  {
   "cell_type": "code",
   "execution_count": 5,
   "metadata": {},
   "outputs": [],
   "source": [
    "from numpy import *\n",
    "\n",
    "class LinearRegression:\n",
    "    def __init__(self,x,y):\n",
    "        self.x = x\n",
    "        self.y = y\n",
    "        self.__correlation_coefficint = self.__correlacao()\n",
    "        self.__inclination = self.__inclinacao()\n",
    "        self.__intercept = self.__interceptacao()\n",
    "        \n",
    "    def __correlacao(self):\n",
    "        covariacao = cov(self.x,self.y,bias=True)[0][1]\n",
    "        variacia_x = var(self.x)\n",
    "        variacia_y = var(self.y)\n",
    "        return covariacao / sqrt(variacia_x * variacia_y)\n",
    "\n",
    "    def __inclinacao(self):\n",
    "        stdx = std(self.x)\n",
    "        stdy = std(self.y)\n",
    "        return self.__correlation_coefficint * (stdy / stdx)\n",
    "\n",
    "    def __interceptacao(self):\n",
    "        mediax = mean(self.x)\n",
    "        mediay = mean(self.y)\n",
    "        return mediay - mediax * self.__inclination\n",
    "            \n",
    "    def previsao(self,valor):\n",
    "        return self.__intercept + (self.__inclination * valor)"
   ]
  },
  {
   "cell_type": "code",
   "execution_count": 6,
   "metadata": {},
   "outputs": [
    {
     "name": "stdout",
     "output_type": "stream",
     "text": [
      "12.0\n"
     ]
    }
   ],
   "source": [
    "x = array([1,2,3,4,5])\n",
    "y = array([2,4,6,8,10])\n",
    "\n",
    "lr = LinearRegression(x,y)\n",
    "previsao = lr.previsao(6)\n",
    "print(previsao)"
   ]
  }
 ],
 "metadata": {
  "kernelspec": {
   "display_name": "Python 3",
   "language": "python",
   "name": "python3"
  },
  "language_info": {
   "codemirror_mode": {
    "name": "ipython",
    "version": 3
   },
   "file_extension": ".py",
   "mimetype": "text/x-python",
   "name": "python",
   "nbconvert_exporter": "python",
   "pygments_lexer": "ipython3",
   "version": "3.11.2"
  },
  "orig_nbformat": 4
 },
 "nbformat": 4,
 "nbformat_minor": 2
}
